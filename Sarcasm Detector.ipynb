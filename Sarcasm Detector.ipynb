{
 "cells": [
  {
   "cell_type": "markdown",
   "metadata": {},
   "source": [
    "#### Necessary Imports"
   ]
  },
  {
   "cell_type": "code",
   "execution_count": 1,
   "metadata": {},
   "outputs": [],
   "source": [
    "import numpy as np\n",
    "import pandas as pd\n",
    "import seaborn as sn\n",
    "from gensim.models import KeyedVectors\n",
    "import random\n",
    "import re\n",
    "import math\n",
    "from tqdm import tqdm_notebook as tqdm\n",
    "from IPython.display import clear_output\n",
    "import matplotlib.pyplot as plt\n",
    "%matplotlib inline"
   ]
  },
  {
   "cell_type": "markdown",
   "metadata": {},
   "source": [
    "#### Loading Datasets"
   ]
  },
  {
   "cell_type": "code",
   "execution_count": 2,
   "metadata": {},
   "outputs": [],
   "source": [
    "def read_to_df(file_name):\n",
    "    labels, input_data = list(), list()\n",
    "    file = open(file_name, \"r\", encoding=\"utf-8\")\n",
    "    file_lines = file.readlines()\n",
    "    file.close()\n",
    "    data = {\n",
    "        \"label\": [d[0] for d in file_lines],\n",
    "        \"headline\": [d[2:] for d in file_lines]\n",
    "    }\n",
    "    df = pd.DataFrame(data, columns=[\"label\", \"headline\"])\n",
    "    return df"
   ]
  },
  {
   "cell_type": "code",
   "execution_count": 3,
   "metadata": {},
   "outputs": [],
   "source": [
    "train_df = read_to_df(\"train.txt\")\n",
    "test_df = read_to_df(\"test.txt\")"
   ]
  },
  {
   "cell_type": "markdown",
   "metadata": {},
   "source": [
    "* *Reading Stop Words*"
   ]
  },
  {
   "cell_type": "code",
   "execution_count": 4,
   "metadata": {},
   "outputs": [],
   "source": [
    "file = open(\"stopwords.txt\", \"r\")\n",
    "stop_words = file.read().split()\n",
    "file.close()"
   ]
  },
  {
   "cell_type": "markdown",
   "metadata": {},
   "source": [
    "#### Loading Word Vectors"
   ]
  },
  {
   "cell_type": "code",
   "execution_count": 5,
   "metadata": {},
   "outputs": [],
   "source": [
    "#Hadi's Path \n",
    "word_vectors = KeyedVectors.load_word2vec_format(\"GoogleNews-vectors-negative300.bin\", binary=True)\n",
    "\n",
    "#Saadullah's Path \n",
    "#word_vectors = KeyedVectors.load_word2vec_format(\"GoogleNews-vectors-negative300.bin\", binary=True)"
   ]
  },
  {
   "cell_type": "markdown",
   "metadata": {},
   "source": [
    "#### Analysing Training Dataset"
   ]
  },
  {
   "cell_type": "code",
   "execution_count": 6,
   "metadata": {},
   "outputs": [
    {
     "data": {
      "text/html": [
       "<div>\n",
       "<style scoped>\n",
       "    .dataframe tbody tr th:only-of-type {\n",
       "        vertical-align: middle;\n",
       "    }\n",
       "\n",
       "    .dataframe tbody tr th {\n",
       "        vertical-align: top;\n",
       "    }\n",
       "\n",
       "    .dataframe thead th {\n",
       "        text-align: right;\n",
       "    }\n",
       "</style>\n",
       "<table border=\"1\" class=\"dataframe\">\n",
       "  <thead>\n",
       "    <tr style=\"text-align: right;\">\n",
       "      <th></th>\n",
       "      <th>label</th>\n",
       "      <th>headline</th>\n",
       "    </tr>\n",
       "  </thead>\n",
       "  <tbody>\n",
       "    <tr>\n",
       "      <th>0</th>\n",
       "      <td>1</td>\n",
       "      <td>paramount executive snaps up script that begin...</td>\n",
       "    </tr>\n",
       "    <tr>\n",
       "      <th>1</th>\n",
       "      <td>1</td>\n",
       "      <td>increasingly paranoid campbell's begins stockp...</td>\n",
       "    </tr>\n",
       "    <tr>\n",
       "      <th>2</th>\n",
       "      <td>1</td>\n",
       "      <td>monster truck escapes\\n</td>\n",
       "    </tr>\n",
       "    <tr>\n",
       "      <th>3</th>\n",
       "      <td>0</td>\n",
       "      <td>sunday roundup\\n</td>\n",
       "    </tr>\n",
       "    <tr>\n",
       "      <th>4</th>\n",
       "      <td>1</td>\n",
       "      <td>birthday card for david axelrod circling aroun...</td>\n",
       "    </tr>\n",
       "  </tbody>\n",
       "</table>\n",
       "</div>"
      ],
      "text/plain": [
       "  label                                           headline\n",
       "0     1  paramount executive snaps up script that begin...\n",
       "1     1  increasingly paranoid campbell's begins stockp...\n",
       "2     1                            monster truck escapes\\n\n",
       "3     0                                   sunday roundup\\n\n",
       "4     1  birthday card for david axelrod circling aroun..."
      ]
     },
     "execution_count": 6,
     "metadata": {},
     "output_type": "execute_result"
    }
   ],
   "source": [
    "train_df.head()"
   ]
  },
  {
   "cell_type": "code",
   "execution_count": 7,
   "metadata": {},
   "outputs": [
    {
     "data": {
      "text/plain": [
       "(22892, 2)"
      ]
     },
     "execution_count": 7,
     "metadata": {},
     "output_type": "execute_result"
    }
   ],
   "source": [
    "train_df.shape"
   ]
  },
  {
   "cell_type": "markdown",
   "metadata": {},
   "source": [
    "* *Plotting to check for skewness*"
   ]
  },
  {
   "cell_type": "code",
   "execution_count": 8,
   "metadata": {},
   "outputs": [
    {
     "data": {
      "text/plain": [
       "Text(0.5, 0, 'Labels')"
      ]
     },
     "execution_count": 8,
     "metadata": {},
     "output_type": "execute_result"
    },
    {
     "data": {
      "image/png": "[encoded data removed]",
      "text/plain": [
       "<Figure size 432x288 with 1 Axes>"
      ]
     },
     "metadata": {
      "needs_background": "light"
     },
     "output_type": "display_data"
    }
   ],
   "source": [
    "ax = (train_df['label'].value_counts(normalize=True)*100).plot(\n",
    "        kind=\"bar\", title='Percentage of Specific Labeled Data in given Dataset')\n",
    "ax.tick_params(axis='x', labelrotation=0)\n",
    "ax.set_ylabel('Percentages %')\n",
    "ax.set_xlabel('Labels')"
   ]
  },
  {
   "cell_type": "markdown",
   "metadata": {},
   "source": [
    "### Preprocessing (Data Cleaning & Word2Vec)"
   ]
  },
  {
   "cell_type": "code",
   "execution_count": 9,
   "metadata": {},
   "outputs": [],
   "source": [
    "def clean_text(text, stopwords):\n",
    "    '''\n",
    "        Cleans Text\n",
    "        \n",
    "        Arguments\n",
    "        ---------\n",
    "        text : str            \n",
    "            \n",
    "        stopwords: list\n",
    "            Array of shape (x, ), where x is the number of stopwords \n",
    "        \n",
    "        Returns\n",
    "        --------\n",
    "        cleaned_text: list\n",
    "            Array of shape (n, ), where n is the number of words in cleaned text\n",
    "    '''\n",
    "    cleaned_text = None\n",
    "\n",
    "    cleaned_text = re.sub(\"[^\\w]\", \" \", text) # Removing punctautions\n",
    "    cleaned_text = cleaned_text.lower() # Converting to lower case\n",
    "    cleaned_text = cleaned_text.split() # Tokenizing\n",
    "    cleaned_text = [x for x in cleaned_text if x not in stopwords] # Removing Stopwords\n",
    "        \n",
    "    return cleaned_text\n",
    "\n",
    "def preprocessing(df, word_vectors, stop_words):\n",
    "    labels, feature_vec = list(), list()\n",
    "    for i in tqdm(range(len(df))):\n",
    "        # Cleaning (Stop words, punctuations)\n",
    "        cleaned_text = clean_text(df[\"headline\"][i], stop_words)\n",
    "        # Extract vec of all words in a sentence from bin file\n",
    "        word2vec = np.array([word_vectors[word] for word in cleaned_text if word in word_vectors])\n",
    "        # Take average of them to get feature vector\n",
    "        if word2vec.size:\n",
    "            feature_vec.append(np.mean(word2vec, axis=0))\n",
    "            labels.append(df[\"label\"][i])\n",
    "    feature_vec = np.array(feature_vec)\n",
    "    labels = np.array(labels).astype('int64')\n",
    "    return labels, feature_vec"
   ]
  },
  {
   "cell_type": "code",
   "execution_count": 10,
   "metadata": {},
   "outputs": [
    {
     "name": "stderr",
     "output_type": "stream",
     "text": [
      "<ipython-input-9-fa111ecbcfc9>:28: TqdmDeprecationWarning: This function will be removed in tqdm==5.0.0\n",
      "Please use `tqdm.notebook.tqdm` instead of `tqdm.tqdm_notebook`\n",
      "  for i in tqdm(range(len(df))):\n"
     ]
    },
    {
     "data": {
      "application/vnd.jupyter.widget-view+json": {
       "model_id": "b28ce0efd159404787ac569c634c68ee",
       "version_major": 2,
       "version_minor": 0
      },
      "text/plain": [
       "HBox(children=(FloatProgress(value=0.0, max=22892.0), HTML(value='')))"
      ]
     },
     "metadata": {},
     "output_type": "display_data"
    },
    {
     "name": "stdout",
     "output_type": "stream",
     "text": [
      "\n"
     ]
    }
   ],
   "source": [
    "train_Y, train_X = preprocessing(train_df, word_vectors, stop_words)"
   ]
  },
  {
   "cell_type": "code",
   "execution_count": 11,
   "metadata": {},
   "outputs": [
    {
     "name": "stderr",
     "output_type": "stream",
     "text": [
      "<ipython-input-9-fa111ecbcfc9>:28: TqdmDeprecationWarning: This function will be removed in tqdm==5.0.0\n",
      "Please use `tqdm.notebook.tqdm` instead of `tqdm.tqdm_notebook`\n",
      "  for i in tqdm(range(len(df))):\n"
     ]
    },
    {
     "data": {
      "application/vnd.jupyter.widget-view+json": {
       "model_id": "b11e78eb2f2c42208e1e50bfb8285bdd",
       "version_major": 2,
       "version_minor": 0
      },
      "text/plain": [
       "HBox(children=(FloatProgress(value=0.0, max=5724.0), HTML(value='')))"
      ]
     },
     "metadata": {},
     "output_type": "display_data"
    },
    {
     "name": "stdout",
     "output_type": "stream",
     "text": [
      "\n"
     ]
    }
   ],
   "source": [
    "test_Y, test_X = preprocessing(test_df, word_vectors, stop_words)"
   ]
  },
  {
   "cell_type": "markdown",
   "metadata": {},
   "source": [
    "### Logistic Regression"
   ]
  },
  {
   "cell_type": "code",
   "execution_count": 20,
   "metadata": {},
   "outputs": [],
   "source": [
    "#creating functions here \n",
    "XTR = train_X\n",
    "YTR = train_Y\n",
    "\n",
    "\n",
    "#Sigmoid Function \n",
    "def sigmoid(X, T0, T1):\n",
    "    \n",
    "    ''' \n",
    "    X: Data point to be tested \n",
    "    T0 parameter for class 0\n",
    "    T1 parameter \n",
    "    '''\n",
    "    \n",
    "    z0 = np.dot(X,T0)\n",
    "    z1 = np.dot(X,T1)\n",
    "    \n",
    "    den = np.exp(z0)+ np.exp(z1)\n",
    "    \n",
    "    Z= np.zeros(2)    \n",
    "    \n",
    "    Z[0]= np.exp(z0)/den #probability of being 0\n",
    "    Z[1]= np.exp(z1)/den #probability of being 1\n",
    "    \n",
    "    return (Z)\n",
    "\n",
    "    \n",
    "#cost function \n",
    "def Cost(Theta, X , y):\n",
    "    \n",
    "    ''' \n",
    "    X: Data point to calculate cost for \n",
    "    Theta:  parameters vector \n",
    "    Y: array of correct labels \n",
    "    \n",
    "    --------\n",
    "    Result: \n",
    "    \n",
    "    l: \n",
    "    Log Cost of currenct trained parameters \n",
    "    '''\n",
    "\n",
    "    L1= np.zeros(m)\n",
    "    L2= np.zeros(m)\n",
    "    \n",
    "\n",
    "    L1[i] = (y* np.log(prediction(X,Theta)))  \n",
    "    L2[i] = ((1-y)*np.log(1-prediction(X,Theta)))\n",
    "    \n",
    "    L= (-L1 - L2)\n",
    "    l= np.mean(L)\n",
    "    return (l)\n",
    "\n",
    "\n",
    "\n",
    "#mini batch gradient descent\n",
    "\n",
    "def MGD(XTR, YTR, lr, iters):\n",
    "    \n",
    "    ''' \n",
    "    XTR: Test data matrix \n",
    "    YTR gold labels array \n",
    "    lr learning rate \n",
    "    iters: # of iterations \n",
    "    \n",
    "    --------\n",
    "    Returns:\n",
    "    \n",
    "    Params0, Params 1:\n",
    "    trained parameters for class and 1\n",
    "    \n",
    "    '''\n",
    "    \n",
    "    m       = YTR.size #trainnig data size\n",
    "    n       = XTR[1,:].size # number of features \n",
    "    Params0 = np.zeros(n)\n",
    "    Ptemp0  = np.zeros(n)\n",
    "    Params1 = np.zeros(n)\n",
    "    Ptemp1  = np.zeros(n)\n",
    "\n",
    "    for epoch in range (iters):\n",
    "    \n",
    "        for j in range (int(m/32)):\n",
    "            Sum0 = np.zeros(n)\n",
    "            Sum1 = np.zeros(n)\n",
    "            s0=0\n",
    "            s1=0\n",
    "            inc = j*32\n",
    "            for i in range (32):\n",
    "                i += inc\n",
    "                soft = sigmoid(XTR[i,:],Params0,Params1)\n",
    "                #print(soft)\n",
    "                if (YTR[i]==0): #nuetral \n",
    "                    Sum0 += -(1 - np.log(soft[0])) * XTR[i,:]\n",
    "                    s0+=1\n",
    "                if (YTR[i]==1): #positive\n",
    "                    Sum1 += -(1 - np.log(soft[1])) * XTR[i,:]\n",
    "                    s1+=1\n",
    "            if s0 == 0:\n",
    "                s0+=1        \n",
    "            GradVector0 = (lr/s0) * Sum0\n",
    "            if s1 == 0:\n",
    "                s1+=1\n",
    "            GradVector1 = (lr/s1) * Sum1\n",
    "            \n",
    "            Ptemp0 = Params0 - GradVector0\n",
    "            Params0 = Ptemp0\n",
    "            Ptemp1 = Params1 - GradVector1\n",
    "            Params1 = Ptemp1\n",
    "            \n",
    "    return Params0,Params1\n",
    "T = MGD(XTR,YTR,0.01,10)"
   ]
  },
  {
   "cell_type": "code",
   "execution_count": 21,
   "metadata": {},
   "outputs": [],
   "source": [
    "#Gives Label of 0 or 1 \n",
    "def Label(d):\n",
    "    ''' \n",
    "    d: \n",
    "    single data point \n",
    "    \n",
    "    --------\n",
    "    Returns:\n",
    "    \n",
    "    lab:\n",
    "    0/1 label\n",
    "    \n",
    "    '''\n",
    "    a= sigmoid(d,T[0],T[1])\n",
    "    lab = np.ndarray.tolist(a).index(max(a))\n",
    "    return lab\n",
    "\n",
    "\n",
    "#Test\n",
    "def Test_LogisticR(test):\n",
    "    ''' \n",
    "    test: \n",
    "    entire test data  \n",
    "    \n",
    "    -------\n",
    "    Returns\n",
    "    \n",
    "    pred:\n",
    "    an array of 0/1 (predicted) labels is returned \n",
    "    '''\n",
    "    pred = list()\n",
    "    for d in tqdm(test):\n",
    "        pred.append(Label(d))\n",
    "    return(pred)"
   ]
  },
  {
   "cell_type": "code",
   "execution_count": 22,
   "metadata": {},
   "outputs": [],
   "source": [
    "#Confusion Matrix for Evaluation \n",
    "def Confusion (G,S): #Gold labels, System generated labels \n",
    "    ''' \n",
    "    G: \n",
    "    Array of golds labels \n",
    "    \n",
    "    S: \n",
    "    Array of predicted labels \n",
    "    \n",
    "    --------\n",
    "    Returns:\n",
    "    A confusion matrix with Tn, Tp, Fn and Fp.\n",
    "    \n",
    "    \n",
    "    '''\n",
    "    tn = 0\n",
    "    fn = 0\n",
    "    fp = 0\n",
    "    tp = 0\n",
    "    m= len(S)\n",
    "\n",
    "    for i in range (m):\n",
    "        if S[i]== G[i]:\n",
    "            if G[i] == 1:\n",
    "                tp = tp+1\n",
    "            if G[i] ==0:\n",
    "                tn = tn+1\n",
    "        if S[i] != G[i]:\n",
    "            if G[i] == 1:\n",
    "                fn = fn+1\n",
    "            if G[i] == 0:\n",
    "                fp = fp +1\n",
    "    Result = np.array([tn, tp, fn, fp])\n",
    "    return (Result)"
   ]
  },
  {
   "cell_type": "code",
   "execution_count": 23,
   "metadata": {},
   "outputs": [],
   "source": [
    "#Evaluates the Logistic Regression Function \n",
    "def Evaluate_LogisticR(): \n",
    "    \n",
    "    \n",
    "    ''' \n",
    "    \n",
    "    \n",
    "    --------\n",
    "    Returns:\n",
    "    Prints evaluation parameters of the logistic regression function \n",
    "    \n",
    "    \n",
    "    '''\n",
    "    Pred = Test_LogisticR(test_X)\n",
    "    S = Confusion(test_Y, Pred)\n",
    "    print('Logistic Regression Results:')\n",
    "    print('Tn = ',S[0])\n",
    "    print('Tp = ',S[1])\n",
    "    print('Fn = ',S[2])\n",
    "    print('Fp = ',S[3])\n",
    "    Tn = S[0]\n",
    "    Tp = S[1]\n",
    "    Fn = S[2]\n",
    "    Fp = S[3]\n",
    "    P= Tp/(Tp+Fp)\n",
    "    A= (Tp+Tn)/(Tp+Tn+Fp+Fn)\n",
    "    R= Tp/(Tp+Fn)\n",
    "    F1= (2*R*P)/(R+P)\n",
    "    print('Precision = ',math.ceil(P*100),\"%\")\n",
    "    print('Recall = ',math.ceil(R*100),\"%\")\n",
    "    print('Accuracy = ', math.ceil(A*100),\"%\")\n",
    "    print('F1 Measure = ', math.ceil(F1*100),\"%\")\n",
    "\n"
   ]
  },
  {
   "cell_type": "code",
   "execution_count": 24,
   "metadata": {},
   "outputs": [
    {
     "name": "stderr",
     "output_type": "stream",
     "text": [
      "<ipython-input-21-7f934fe9d42d>:32: TqdmDeprecationWarning: This function will be removed in tqdm==5.0.0\n",
      "Please use `tqdm.notebook.tqdm` instead of `tqdm.tqdm_notebook`\n",
      "  for d in tqdm(test):\n"
     ]
    },
    {
     "data": {
      "application/vnd.jupyter.widget-view+json": {
       "model_id": "a38f78d874d74b61b0d1f94efaaccc54",
       "version_major": 2,
       "version_minor": 0
      },
      "text/plain": [
       "HBox(children=(FloatProgress(value=0.0, max=5724.0), HTML(value='')))"
      ]
     },
     "metadata": {},
     "output_type": "display_data"
    },
    {
     "name": "stdout",
     "output_type": "stream",
     "text": [
      "\n",
      "Logistic Regression Results:\n",
      "Tn =  2172\n",
      "Tp =  1894\n",
      "Fn =  833\n",
      "Fp =  825\n",
      "Precision =  70 %\n",
      "Recall =  70 %\n",
      "Accuracy =  72 %\n",
      "F1 Measure =  70 %\n"
     ]
    }
   ],
   "source": [
    "#Runs The Logistic Regression Evaluation \n",
    "Evaluate_LogisticR()"
   ]
  },
  {
   "cell_type": "markdown",
   "metadata": {},
   "source": [
    "### KNN"
   ]
  },
  {
   "cell_type": "markdown",
   "metadata": {},
   "source": [
    "* ***Preprocessing Dataset & Feature Normalization***"
   ]
  },
  {
   "cell_type": "code",
   "execution_count": 62,
   "metadata": {},
   "outputs": [],
   "source": [
    "def mean_normalize(inp):\n",
    "    inp = (inp - np.mean(inp))/(np.std(inp))\n",
    "    return inp\n",
    "\n",
    "def knn_preprocessor(X, Y):\n",
    "    '''\n",
    "        Converts Dataframe to a list of JSON objects, separating 'features' and 'label'\n",
    "        \n",
    "        Arguments\n",
    "        ---------\n",
    "        df : Pandas Dataframe\n",
    "            Dataframe of shape (m, n), where m is number of rows and n is the number of columns\n",
    "            \n",
    "        n: int\n",
    "            Number of features\n",
    "        \n",
    "        Returns\n",
    "        -------\n",
    "        data: list of JSON Objects\n",
    "            Array of shape (m, ), where m is number of instances and every element is a JSON object with \n",
    "            2 keys 'features' that is a NUMPY array of shape (n, ) where n is the number of features and \n",
    "            'label' is an integer representing encoded label of that instance\n",
    "    '''\n",
    "    data = list()\n",
    "    m = Y.size\n",
    "    n = X[0].size\n",
    "    # Mean Normalizing Feature Vector\n",
    "    X = np.apply_along_axis(mean_normalize, 0, X)\n",
    "    # Preprocessing\n",
    "    for i in tqdm(range(m)):\n",
    "        data.append({'features': X[i], 'label': int(Y[i])})\n",
    "    return data"
   ]
  },
  {
   "cell_type": "markdown",
   "metadata": {},
   "source": [
    "* ***Functions to find K Nearest Neighbours using QuickSelect and Order Statistics in O(n)***"
   ]
  },
  {
   "cell_type": "code",
   "execution_count": 81,
   "metadata": {},
   "outputs": [],
   "source": [
    "def equality_check(arr):\n",
    "    temp = arr[0][\"distance\"]\n",
    "    for x in arr:\n",
    "        if x[\"distance\"] != temp:\n",
    "            return False\n",
    "    return True\n",
    "\n",
    "def sort_by_pivot(arr, start, end):\n",
    "    '''\n",
    "        * Uses the concept of QUICKSELECT and ORDER STATISTICS, and chooses a random element 'pivot' \n",
    "        and puts it at a postion 'i', where arr[i] >= arr[j] for all (j < i) and arr[i] <= arr[k] for \n",
    "        all (k > i).\n",
    "        * Or Returns the index of 'pivot-th' smallest element of the 'arr'.\n",
    "        * Time Complexity = O(n)\n",
    "        \n",
    "        Arguments\n",
    "        ---------\n",
    "        arr: list\n",
    "            Array of shape (m, ), where m is the number of elements in the list\n",
    "        \n",
    "        start, end: int, int\n",
    "            Start and end index of arr between which you want to find pivot and sort it accordingly\n",
    "        \n",
    "        Returns\n",
    "        -------\n",
    "        pivot: int\n",
    "            Current position of the correctly sorted pivot in the arr. Element at 'pivot' \n",
    "            will be the 'pivot-th' smallest element in arr.\n",
    "    '''\n",
    "    pivot = random.randint(start,end)\n",
    "    pivot_val = arr[pivot]['distance']\n",
    "    i = -1\n",
    "    j = end\n",
    "    temp = arr[pivot]\n",
    "    arr[pivot] = arr[j]\n",
    "    arr[j] = temp\n",
    "    i_start = True\n",
    "    while True:\n",
    "        if i_start:\n",
    "            i = i + 1\n",
    "            if arr[i]['distance'] >= pivot_val:\n",
    "                i_start = False\n",
    "        if i == j:\n",
    "            t = arr[i]\n",
    "            arr[i] = arr[end]\n",
    "            arr[end] = t\n",
    "            break\n",
    "        if not i_start:\n",
    "            j = j - 1\n",
    "        if arr[j]['distance'] < pivot_val and not i_start:\n",
    "            t = arr[i]\n",
    "            arr[i] = arr[j]\n",
    "            arr[j] = t\n",
    "            i_start = True\n",
    "    pivot = i\n",
    "    return pivot\n",
    "\n",
    "def get_KNN(arr, k):\n",
    "    '''\n",
    "        * Uses the concept of QUICKSELECT and ORDER STATISTICS, and returns the 'k' smallest elements from the 'arr'.\n",
    "        * Time Complexity = O(n)\n",
    "        \n",
    "        Arguments\n",
    "        ---------\n",
    "        arr: list\n",
    "            Array of shape (m, ), where m is the number of elements in the list\n",
    "        \n",
    "        k: int\n",
    "            The number of smallest elements that are to be returned.\n",
    "        \n",
    "        Returns\n",
    "        -------\n",
    "        pivot: int\n",
    "            Current position of the correctly sorted pivot in the arr. Element at 'pivot' \n",
    "            will be the 'pivot-th' smallest element in arr.\n",
    "    '''\n",
    "    if k > len(arr):\n",
    "        return \"Invalid Input\"\n",
    "    start = 0\n",
    "    end = len(arr) - 1\n",
    "    inf = 0\n",
    "    while True:\n",
    "        if start == end or (equality_check(arr[0:k]) and k > 1):\n",
    "            return arr[0:k]\n",
    "        index = sort_by_pivot(arr, start, end)\n",
    "        if index == (k - 1):\n",
    "            return arr[0:k]\n",
    "        elif index < (k - 1):\n",
    "            start = index + 1\n",
    "        else:\n",
    "            end = index - 1\n",
    "        inf += 1\n",
    "            \n",
    "def get_max_label(arr, num_classes):\n",
    "    '''\n",
    "        Returns the label that occurs the most in the 'arr'.\n",
    "        \n",
    "        Arguments\n",
    "        ---------\n",
    "        arr: list\n",
    "            Array of shape (m, ), where m is the number of elements in the list\n",
    "        \n",
    "        num_classes: int\n",
    "            Number of classes in the dataset\n",
    "        \n",
    "        Returns\n",
    "        -------\n",
    "        label: int\n",
    "            The encoded label of the most occured label in the 'arr'\n",
    "    '''\n",
    "    label = None\n",
    "    label_count = np.zeros(num_classes)\n",
    "    for x in arr:\n",
    "        label_count[x['label']] += 1\n",
    "    label = np.argmax(label_count)\n",
    "    return label\n",
    "\n",
    "def predict_label(train, d, k, num_classes):\n",
    "    '''\n",
    "        Applys KNN Algorithm and predicts the label of 'd' instance\n",
    "        \n",
    "        Arguments\n",
    "        ---------\n",
    "        train: list of JSON Objects\n",
    "            Array of shape (m, ), where m is number of training examples and every element is a JSON object with \n",
    "            2 keys 'features' that is a NUMPY array of shape (n, ) where n is the number of features and \n",
    "            'label' is an integer representing encoded label of that instance\n",
    "            \n",
    "        d: JSON Object\n",
    "            A JSON object with 2 keys, 'features' that is a NUMPY array of shape (n, ) where n is the number of \n",
    "            features and 'label' is an integer representing encoded label of that instance\n",
    "        \n",
    "        k: int\n",
    "            The number of smallest elements that are to be returned.\n",
    "            \n",
    "        num_classes: int\n",
    "            Number of classes in the dataset\n",
    "        \n",
    "        Returns\n",
    "        -------\n",
    "        y_cap: int\n",
    "            The predicted and encoded label of 'd'\n",
    "    '''\n",
    "    y_cap = None\n",
    "    distances = np.array([{'distance': np.linalg.norm(x['features']-d['features']), 'label': x['label']} for x in train])# O(mn)\n",
    "    KNN = get_KNN(distances, k) # O(n)\n",
    "    y_cap = get_max_label(KNN, num_classes) # O(k)\n",
    "    return y_cap"
   ]
  },
  {
   "cell_type": "markdown",
   "metadata": {},
   "source": [
    "* ***Testing Function***"
   ]
  },
  {
   "cell_type": "code",
   "execution_count": 72,
   "metadata": {},
   "outputs": [],
   "source": [
    "def testKNN(train, test, k, num_classes):\n",
    "    '''\n",
    "        Applys KNN Algorithm and predicts the labels of all test dataset and builds a confusion matrix\n",
    "        \n",
    "        Arguments\n",
    "        ---------\n",
    "        train: list of JSON Objects\n",
    "            Array of shape (m, ), where m is number of training examples and every element is a JSON object with \n",
    "            2 keys 'features' that is a NUMPY array of shape (n, ) where n is the number of features and \n",
    "            'label' is an integer representing encoded label of that instance\n",
    "            \n",
    "        test: list of JSON Objects\n",
    "            Array of shape (m, ), where m is number of testing instances and every element is a JSON object with \n",
    "            2 keys 'features' that is a NUMPY array of shape (n, ) where n is the number of features and \n",
    "            'label' is an integer representing encoded label of that instance\n",
    "        \n",
    "        k: int\n",
    "            The number of smallest elements that are to be returned.\n",
    "            \n",
    "        num_classes: int\n",
    "            Number of classes in the dataset\n",
    "        \n",
    "        Returns\n",
    "        -------\n",
    "        cm: numpy array\n",
    "            Array of shape (k, k), where k is the number of classes\n",
    "    '''\n",
    "    cm = np.zeros((num_classes, num_classes))\n",
    "    \n",
    "    for d in tqdm(test):\n",
    "        pred_c = predict_label(train, d, k, num_classes)\n",
    "        cm[pred_c][d['label']] += 1\n",
    "    \n",
    "    return cm"
   ]
  },
  {
   "cell_type": "markdown",
   "metadata": {},
   "source": [
    "* ***Processing***"
   ]
  },
  {
   "cell_type": "code",
   "execution_count": 63,
   "metadata": {},
   "outputs": [
    {
     "data": {
      "application/vnd.jupyter.widget-view+json": {
       "model_id": "9a86f7a1bb3e4bfcb3e635b320d79eb8",
       "version_major": 2,
       "version_minor": 0
      },
      "text/plain": [
       "HBox(children=(IntProgress(value=0, max=22890), HTML(value='')))"
      ]
     },
     "metadata": {},
     "output_type": "display_data"
    },
    {
     "name": "stdout",
     "output_type": "stream",
     "text": [
      "\n"
     ]
    },
    {
     "data": {
      "application/vnd.jupyter.widget-view+json": {
       "model_id": "e5a8a5f297ca4b0aa2d2300e5e305b8e",
       "version_major": 2,
       "version_minor": 0
      },
      "text/plain": [
       "HBox(children=(IntProgress(value=0, max=5724), HTML(value='')))"
      ]
     },
     "metadata": {},
     "output_type": "display_data"
    },
    {
     "name": "stdout",
     "output_type": "stream",
     "text": [
      "\n"
     ]
    }
   ],
   "source": [
    "num_classes = 2\n",
    "knn_train_data = knn_preprocessor(train_X, train_Y)\n",
    "knn_test_data = knn_preprocessor(test_X, test_Y)"
   ]
  },
  {
   "cell_type": "markdown",
   "metadata": {},
   "source": [
    "* ***Testing***"
   ]
  },
  {
   "cell_type": "code",
   "execution_count": 82,
   "metadata": {},
   "outputs": [
    {
     "data": {
      "application/vnd.jupyter.widget-view+json": {
       "model_id": "0cac6a62bfe14158968a347870069536",
       "version_major": 2,
       "version_minor": 0
      },
      "text/plain": [
       "HBox(children=(IntProgress(value=0, max=5724), HTML(value='')))"
      ]
     },
     "metadata": {},
     "output_type": "display_data"
    }
   ],
   "source": [
    "k1_cm = testKNN(knn_train_data, knn_test_data, 1, num_classes)"
   ]
  },
  {
   "cell_type": "code",
   "execution_count": 86,
   "metadata": {},
   "outputs": [
    {
     "data": {
      "application/vnd.jupyter.widget-view+json": {
       "model_id": "2857dc83937443f3b02f9d2fa2f39586",
       "version_major": 2,
       "version_minor": 0
      },
      "text/plain": [
       "HBox(children=(IntProgress(value=0, max=5724), HTML(value='')))"
      ]
     },
     "metadata": {},
     "output_type": "display_data"
    }
   ],
   "source": [
    "k3_cm = testKNN(knn_train_data, knn_test_data, 3, num_classes)"
   ]
  },
  {
   "cell_type": "code",
   "execution_count": null,
   "metadata": {},
   "outputs": [],
   "source": [
    "k5_cm = testKNN(knn_train_data, knn_test_data, 5, num_classes)"
   ]
  },
  {
   "cell_type": "code",
   "execution_count": null,
   "metadata": {},
   "outputs": [],
   "source": [
    "k7_cm = testKNN(knn_train_data, knn_test_data, 7, num_classes)"
   ]
  },
  {
   "cell_type": "code",
   "execution_count": null,
   "metadata": {},
   "outputs": [],
   "source": [
    "k10_cm = testKNN(knn_train_data, knn_test_data, 10, num_classes)"
   ]
  },
  {
   "cell_type": "markdown",
   "metadata": {},
   "source": [
    "### Perceptron"
   ]
  },
  {
   "cell_type": "code",
   "execution_count": 26,
   "metadata": {},
   "outputs": [],
   "source": [
    "def Perceptron(XTR, YTR):\n",
    "    \n",
    "    '''\n",
    "        Arguments\n",
    "        ---------\n",
    "        XTR:\n",
    "        Matrix of all the feature of the training data\n",
    "        \n",
    "        YTR:\n",
    "        Array of gold labels of traning data\n",
    "        \n",
    "        Returns\n",
    "        -------\n",
    "        w:\n",
    "        array of trained weights for all the features \n",
    "        \n",
    "        \n",
    "    '''\n",
    "    \n",
    "    \n",
    "    YTR[YTR < 1]= -1\n",
    "    size = YTR.size\n",
    "    w = np.zeros(len(XTR[0]))\n",
    "    m=1\n",
    "    \n",
    "    while (m!=0):  \n",
    "        #i = random.randint(0,size)\n",
    "        for i in range (size):\n",
    "            m=0\n",
    "            pred = np.dot(XTR[i],w)\n",
    "            if (YTR[i] * pred <= 0):\n",
    "                w += YTR[i]*XTR[i] \n",
    "                m+=1\n",
    "        if(m == 0):\n",
    "            break\n",
    "    \n",
    "    return w\n",
    "\n",
    "def Perceptron_Label(w,Xi):\n",
    "    \n",
    "    '''\n",
    "        Arguments\n",
    "        ---------\n",
    "        Xi:\n",
    "        Single array of features from the training data\n",
    "        \n",
    "         w:\n",
    "        array of trained weights for all the features \n",
    "        \n",
    "        Returns\n",
    "        -------\n",
    "       label:\n",
    "       a -1/1 label\n",
    "    '''\n",
    "    \n",
    "    pred = np.dot(Xi,w)\n",
    "    label=0\n",
    "    if (pred > 0 ):\n",
    "        label = 1\n",
    "    if (pred < 0):\n",
    "        label = -1\n",
    "    return label\n",
    "\n",
    "\n",
    "\n",
    "\n",
    "\n",
    "def Test_Perceptron(XTE, YTE, w):\n",
    "    \n",
    "    '''\n",
    "        Arguments\n",
    "        ---------\n",
    "        XTE:\n",
    "        Matrix of all the feature of the testing data\n",
    "        \n",
    "        YTE:\n",
    "        Array of gold labels of testing data\n",
    "        \n",
    "        Returns\n",
    "        -------\n",
    "        Pred:\n",
    "        Array of predicted labels.\n",
    "    '''\n",
    "    \n",
    "    \n",
    "    \n",
    "    m = YTE.size\n",
    "    Pred = np.zeros(m)\n",
    "    for i in range(m):\n",
    "        Pred[i] = Perceptron_Label(w,XTE[i])\n",
    "    return (Pred)\n",
    "\n",
    "\n",
    "\n",
    "\n",
    "\n",
    "\n",
    "def Evaluate_Perceptron(Pred, Y):\n",
    "    \n",
    "    ''' \n",
    "        Arguments\n",
    "        ---------\n",
    "        Y:\n",
    "        Gold labels of test data\n",
    "        \n",
    "        Pred:\n",
    "        Array of predicted labels of testing data\n",
    "        \n",
    "        --------\n",
    "        Returns:\n",
    "        Prints evaluation parameters of the logistic regression function \n",
    "    \n",
    "    \n",
    "    '''\n",
    "    \n",
    "    \n",
    "    Pred[Pred < 0]=0\n",
    "    S = Confusion(Y,Pred)\n",
    "    print('Perceptron Results:')\n",
    "    print('Tn = ',S[0])\n",
    "    print('Tp = ',S[1])\n",
    "    print('Fn = ',S[2])\n",
    "    print('Fp = ',S[3])\n",
    "    Tn = S[0]\n",
    "    Tp = S[1]\n",
    "    Fn = S[2]\n",
    "    Fp = S[3]\n",
    "    P= Tp/(Tp+Fp)\n",
    "    A= (Tp+Tn)/(Tp+Tn+Fp+Fn)\n",
    "    R= Tp/(Tp+Fn)\n",
    "    F1= (2*R*P)/(R+P)\n",
    "    print('Precision = ',math.ceil(P*100),\"%\")\n",
    "    print('Recall = ',math.ceil(R*100),\"%\")\n",
    "    print('Accuracy = ', math.ceil(A*100),\"%\")\n",
    "    print('F1 Measure = ', math.ceil(F1*100),\"%\")\n"
   ]
  },
  {
   "cell_type": "code",
   "execution_count": 27,
   "metadata": {},
   "outputs": [
    {
     "name": "stdout",
     "output_type": "stream",
     "text": [
      "Perceptron Results:\n",
      "Tn =  1270\n",
      "Tp =  2305\n",
      "Fn =  422\n",
      "Fp =  1727\n",
      "Precision =  58 %\n",
      "Recall =  85 %\n",
      "Accuracy =  63 %\n",
      "F1 Measure =  69 %\n"
     ]
    }
   ],
   "source": [
    "W = Perceptron(train_X , train_Y)\n",
    "Pred = Test_Perceptron(test_X, test_Y, W)\n",
    "Evaluate_Perceptron(Pred, test_Y)"
   ]
  },
  {
   "cell_type": "markdown",
   "metadata": {},
   "source": [
    "#### Evaluation Functions"
   ]
  },
  {
   "cell_type": "code",
   "execution_count": 28,
   "metadata": {},
   "outputs": [],
   "source": [
    "def evaluation_matrix(cm, classes):\n",
    "    '''\n",
    "        Plots confusion matrix and calculates Macro accuracy, precision, recall, f1 score\n",
    "\n",
    "        Arguments\n",
    "        ---------\n",
    "        cm: numpy array\n",
    "            Array of shape (k, k), where k is the number of classes\n",
    "            \n",
    "        classes: list\n",
    "            Array of encoded labels of shape (c, ), where c is the number of classes\n",
    "    '''\n",
    "    df_cm = pd.DataFrame(cm, index = [i for i in classes],\n",
    "              columns = [i for i in classes])\n",
    "    sn.set(font_scale=1.4)\n",
    "    sn.heatmap(df_cm, annot=True, annot_kws={\"size\": 16}, fmt='g', cmap=\"BuPu\")\n",
    "    plt.show()\n",
    "    # Calculating Accuracy\n",
    "    accuracy = np.sum(np.array([cm[i][i] for i in range(len(cm))])) / np.sum(cm)\n",
    "    print(\"\\n\\nAccuracy = %.2f\" % (accuracy))\n",
    "    # Calculating Precision\n",
    "    precision = cm[0][0]/(cm[0][0]+cm[0][1])\n",
    "    print(\"Precision = %.2f\" % (precision))\n",
    "    # Calculating Recall\n",
    "    recall = cm[0][0]/(cm[0][0]+cm[1][0])\n",
    "    print(\"Recall = %.2f\" % (recall))\n",
    "    # Calculating F1 Score\n",
    "    f1_score = (2*recall*precision)/(recall+precision)\n",
    "    print(\"F1 Score = %.2f\" % (f1_score))"
   ]
  },
  {
   "cell_type": "markdown",
   "metadata": {},
   "source": [
    "## Evaluation Report"
   ]
  },
  {
   "cell_type": "code",
   "execution_count": 77,
   "metadata": {},
   "outputs": [],
   "source": [
    "classes = [\"Not Sarcastic\", \"Sarcastic\"]"
   ]
  },
  {
   "cell_type": "markdown",
   "metadata": {},
   "source": [
    "### Logistic Regression"
   ]
  },
  {
   "cell_type": "code",
   "execution_count": null,
   "metadata": {},
   "outputs": [],
   "source": []
  },
  {
   "cell_type": "markdown",
   "metadata": {},
   "source": [
    "### KNN"
   ]
  },
  {
   "cell_type": "markdown",
   "metadata": {},
   "source": [
    "* k = 1"
   ]
  },
  {
   "cell_type": "code",
   "execution_count": 85,
   "metadata": {},
   "outputs": [
    {
     "data": {
      "image/png": "[encoded data removed]",
      "text/plain": [
       "<Figure size 432x288 with 2 Axes>"
      ]
     },
     "metadata": {},
     "output_type": "display_data"
    },
    {
     "name": "stdout",
     "output_type": "stream",
     "text": [
      "\n",
      "\n",
      "Accuracy = 0.69\n",
      "Precision = 0.75\n",
      "Recall = 0.61\n",
      "F1 Score = 0.68\n"
     ]
    }
   ],
   "source": [
    "evaluation_matrix(k1_cm, classes)"
   ]
  },
  {
   "cell_type": "markdown",
   "metadata": {},
   "source": [
    "* k = 3"
   ]
  },
  {
   "cell_type": "code",
   "execution_count": 75,
   "metadata": {},
   "outputs": [
    {
     "data": {
      "application/vnd.jupyter.widget-view+json": {
       "model_id": "d5019b4449a54874b24810217146bd48",
       "version_major": 2,
       "version_minor": 0
      },
      "text/plain": [
       "HBox(children=(IntProgress(value=0, max=5724), HTML(value='')))"
      ]
     },
     "metadata": {},
     "output_type": "display_data"
    },
    {
     "data": {
      "text/plain": [
       "array([[1820.,  484.],\n",
       "       [1177., 2243.]])"
      ]
     },
     "execution_count": 75,
     "metadata": {},
     "output_type": "execute_result"
    }
   ],
   "source": [
    "evaluation_matrix(k3_cm, classes)"
   ]
  },
  {
   "cell_type": "markdown",
   "metadata": {},
   "source": [
    "* k = 5"
   ]
  },
  {
   "cell_type": "code",
   "execution_count": null,
   "metadata": {},
   "outputs": [],
   "source": [
    "evaluation_matrix(k5_cm, classes)"
   ]
  },
  {
   "cell_type": "markdown",
   "metadata": {},
   "source": [
    "* k = 7"
   ]
  },
  {
   "cell_type": "code",
   "execution_count": null,
   "metadata": {},
   "outputs": [],
   "source": [
    "evaluation_matrix(k7_cm, classes)"
   ]
  },
  {
   "cell_type": "markdown",
   "metadata": {},
   "source": [
    "* k = 10"
   ]
  },
  {
   "cell_type": "code",
   "execution_count": null,
   "metadata": {},
   "outputs": [],
   "source": [
    "evaluation_matrix(k10_cm, classes)"
   ]
  }
 ],
 "metadata": {
  "kernelspec": {
   "display_name": "Python 3",
   "language": "python",
   "name": "python3"
  },
  "language_info": {
   "codemirror_mode": {
    "name": "ipython",
    "version": 3
   },
   "file_extension": ".py",
   "mimetype": "text/x-python",
   "name": "python",
   "nbconvert_exporter": "python",
   "pygments_lexer": "ipython3",
   "version": "3.8.3rc1"
  }
 },
 "nbformat": 4,
 "nbformat_minor": 2
}
